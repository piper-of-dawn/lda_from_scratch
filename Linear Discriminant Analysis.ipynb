{
 "cells": [
  {
   "cell_type": "markdown",
   "metadata": {},
   "source": [
    "# Linear Discriminant Analysis\n"
   ]
  },
  {
   "cell_type": "markdown",
   "metadata": {},
   "source": [
    "I decided to implement linear discriminant analysis from scratch—capital S scratch. I won’t even use NumPy or Pandas; just pure Python with its humble lists, some built-in tools and the first principles of linear algebra and statistics. I've even tackled tasks like matrix multiplication and inversion from the ground up."
   ]
  },
  {
   "cell_type": "markdown",
   "metadata": {},
   "source": [
    "## Data\n",
    "I've enlisted my legit health stats from Apple Health and Nike Run Club to predict whether I will run on a particular day or not. Apple Health is a goldmine of health data due to its expansive dataset and multifaceted metrics. The platform aggregates a diverse range of health and fitness information, encompassing activity levels, sleep patterns, and heart rate variations. The data was easy to export as Apple Health has a button to export your personal health data locally. The running data is just one binary variable, did I run or not run on that day, but the data was a pain to retrieve. But runners are persistent and stubborn so someone wrote a Python library to extract data from NRC. \n",
    "\n",
    "I will use my average heart rate recorded throughout the day and active energy burned that is the calories burned when I was physically active to predict whether I went for a run or not"
   ]
  },
  {
   "cell_type": "markdown",
   "metadata": {},
   "source": [
    "I will use dataclasses to create a class that will represent a single row of the dataset. This will make it easier to work with the data, since we are not using pandas."
   ]
  },
  {
   "cell_type": "code",
   "execution_count": 1,
   "metadata": {},
   "outputs": [],
   "source": [
    "from dataclasses import dataclass\n",
    "import datetime\n",
    "@dataclass \n",
    "class RunData:\n",
    "    Date: datetime.datetime\n",
    "    MeanAppleSleepingWristTemperature: float\n",
    "    TotalActiveEnergyBurned: float\n",
    "    MeanHeartRate: float\n",
    "    MeanHeartRateVariabilitySDNN: float\n",
    "    MeanRestingHeartRate: float\n",
    "    MaxHeartRate: float\n",
    "    didIRun: int\n",
    "\n",
    "    def __repr__ (self):\n",
    "        return '\\n'.join(map(lambda y: f'{y[0]}: {y[1]}',self.__dict__.items()))"
   ]
  },
  {
   "cell_type": "markdown",
   "metadata": {},
   "source": [
    "The next step is to read the data"
   ]
  },
  {
   "cell_type": "code",
   "execution_count": 2,
   "metadata": {},
   "outputs": [
    {
     "name": "stdout",
     "output_type": "stream",
     "text": [
      "Date: 2023-11-04 00:00:00\n",
      "MeanAppleSleepingWristTemperature: 34.3623\n",
      "TotalActiveEnergyBurned: 1320.6378\n",
      "MeanHeartRate: 108.27973\n",
      "MeanHeartRateVariabilitySDNN: 50.100624\n",
      "MeanRestingHeartRate: 72.0\n",
      "MaxHeartRate: 174.0\n",
      "didIRun: 1\n"
     ]
    }
   ],
   "source": [
    "from datetime import datetime\n",
    "with open(\"personal_health_data.csv\") as f:\n",
    "    raw_data = list(map(lambda x: x.split(\",\"), f.read().splitlines()))\n",
    "    convertToFloat = lambda x: float(x) if x != \"\" else None\n",
    "    parse_datetime = lambda string: datetime.strptime(string, \"%d-%m-%Y\")\n",
    "    DATA = [\n",
    "        RunData(\n",
    "            parse_datetime(Date),\n",
    "            convertToFloat(MeanAppleSleepingWristTemperature),\n",
    "            convertToFloat(TotalActiveEnergyBurned),\n",
    "            convertToFloat(MeanHeartRate),\n",
    "            convertToFloat(MeanHeartRateVariabilitySDNN),\n",
    "            convertToFloat(MeanRestingHeartRate),\n",
    "            convertToFloat(MaxHeartRate),\n",
    "            int(didIRun),\n",
    "        )\n",
    "        for Date, MeanAppleSleepingWristTemperature, TotalActiveEnergyBurned, MeanHeartRate, MeanHeartRateVariabilitySDNN, MeanRestingHeartRate, MaxHeartRate, didIRun in raw_data[\n",
    "            1:\n",
    "        ]\n",
    "    ]\n",
    "print(DATA[0])"
   ]
  },
  {
   "cell_type": "code",
   "execution_count": 3,
   "metadata": {},
   "outputs": [],
   "source": [
    "from functools import reduce\n",
    "average = lambda data, column_name: reduce(lambda x, y: x + y, map(lambda x: x.__dict__[column_name], data)) / len(data)"
   ]
  },
  {
   "cell_type": "markdown",
   "metadata": {},
   "source": [
    "Next we will perform train and test split on the data"
   ]
  },
  {
   "cell_type": "code",
   "execution_count": 4,
   "metadata": {},
   "outputs": [],
   "source": [
    "train = list(filter(lambda x: x.Date < datetime(2023, 12, 25), DATA))\n",
    "test = list(filter(lambda x: x.Date >= datetime(2023, 12, 25), DATA))\n",
    "data_given_run = list(filter(lambda x: x.didIRun == 1, train))\n",
    "data_given_not_run = list(filter(lambda x: x.didIRun == 0, train))"
   ]
  },
  {
   "cell_type": "markdown",
   "metadata": {},
   "source": [
    "Here we calculate the prior probabilities"
   ]
  },
  {
   "cell_type": "code",
   "execution_count": 5,
   "metadata": {},
   "outputs": [
    {
     "name": "stdout",
     "output_type": "stream",
     "text": [
      "Prior probability of running: 0.5952380952380952\n",
      "Prior probability of not running: 0.40476190476190477\n"
     ]
    }
   ],
   "source": [
    "run_count = len(list(filter(lambda x: x.didIRun == 1, train)))\n",
    "not_run_count = len(list(filter(lambda x: x.didIRun == 0, train)))\n",
    "\n",
    "prior_probability_of_running = run_count / (run_count + not_run_count)\n",
    "print(f\"Prior probability of running: {prior_probability_of_running}\")\n",
    "\n",
    "prior_probability_of_not_running = not_run_count / (run_count + not_run_count)\n",
    "print(f\"Prior probability of not running: {prior_probability_of_not_running}\")"
   ]
  },
  {
   "cell_type": "markdown",
   "metadata": {},
   "source": [
    "We calculate the means for each class\n"
   ]
  },
  {
   "cell_type": "code",
   "execution_count": 6,
   "metadata": {},
   "outputs": [
    {
     "name": "stdout",
     "output_type": "stream",
     "text": [
      "\n",
      "Mean vector given run: \n",
      "MaxHeartRate: 176.28\n",
      "TotalActiveEnergyBurned: 1076.0078936\n",
      "\n",
      "Mean vector given not run: \n",
      "MaxHeartRate: 136.52941176470588\n",
      "TotalActiveEnergyBurned: 589.9160905882354\n"
     ]
    }
   ],
   "source": [
    "from collections import namedtuple\n",
    "Mean = namedtuple(\"Mean\", [\"MaxHeartRate\", \"TotalActiveEnergyBurned\"])\n",
    "mean_tuple_given_run = Mean(average(data_given_run, \"MaxHeartRate\"), average(data_given_run, \"TotalActiveEnergyBurned\"))\n",
    "mean_tuple_given_not_run = Mean(average(data_given_not_run, \"MaxHeartRate\"), average(data_given_not_run, \"TotalActiveEnergyBurned\"))\n",
    "pretty_print_tuple = lambda x: print('\\n'.join(map(lambda y: f'{y[0]}: {y[1]}',x._asdict().items())))\n",
    "print(\"\\nMean vector given run: \")\n",
    "pretty_print_tuple(mean_tuple_given_run)\n",
    "print(\"\\nMean vector given not run: \")\n",
    "pretty_print_tuple(mean_tuple_given_not_run)"
   ]
  },
  {
   "cell_type": "markdown",
   "metadata": {},
   "source": [
    "We matrixify (idk if that is an actual word) the data to train the model."
   ]
  },
  {
   "cell_type": "code",
   "execution_count": 20,
   "metadata": {},
   "outputs": [],
   "source": [
    "train_matrix = list(map(lambda x: [x.MaxHeartRate, x.TotalActiveEnergyBurned], train))\n",
    "train_matrix_given_run = list(map(lambda x: [x.MaxHeartRate, x.TotalActiveEnergyBurned], data_given_run))\n",
    "train_matrix_given_not_run = list(map(lambda x: [x.MaxHeartRate, x.TotalActiveEnergyBurned], data_given_not_run))\n",
    "mean_vector_given_run = [list(mean_tuple_given_run) for _ in range(len(train_matrix_given_run))]\n",
    "mean_vector_given_not_run = [list(mean_tuple_given_not_run) for _ in range(len(train_matrix_given_not_run))]"
   ]
  },
  {
   "cell_type": "markdown",
   "metadata": {},
   "source": [
    "I have coded my own linear algebra library, since we are re-inventing the wheel here, so I will use that to calculate the covariance matrix"
   ]
  },
  {
   "cell_type": "code",
   "execution_count": 8,
   "metadata": {},
   "outputs": [],
   "source": [
    "from linear_algebra_dumb_implementation import multiply_matrices, transpose_matrix, pretty_print_matrix, subtract_matrices, multiply_matrix_by_scalar, get_matrix_inverse, add_matrices"
   ]
  },
  {
   "cell_type": "code",
   "execution_count": 9,
   "metadata": {},
   "outputs": [],
   "source": [
    "demeaned_matrix_given_run = subtract_matrices(train_matrix_given_run, mean_vector_given_run)\n",
    "demeaned_matrix_given_not_run = subtract_matrices(train_matrix_given_not_run, mean_vector_given_not_run)"
   ]
  },
  {
   "cell_type": "code",
   "execution_count": 10,
   "metadata": {},
   "outputs": [],
   "source": [
    "covariance_matrix_given_run = multiply_matrix_by_scalar(\n",
    "    scalar = 1 / (len(demeaned_matrix_given_run) - 1),\n",
    "    matrix= multiply_matrices(\n",
    "        transpose_matrix(demeaned_matrix_given_run), demeaned_matrix_given_run\n",
    "    ),\n",
    ")\n",
    "\n",
    "covariance_matrix_given_not_run = multiply_matrix_by_scalar(\n",
    "    scalar = 1 / (len(demeaned_matrix_given_not_run) - 1),\n",
    "    matrix= multiply_matrices(\n",
    "        transpose_matrix(demeaned_matrix_given_not_run), demeaned_matrix_given_not_run\n",
    "    ),\n",
    ")\n",
    "\n",
    "covariance_matrix = multiply_matrix_by_scalar(\n",
    "    scalar = 0.5,\n",
    "    matrix = add_matrices(covariance_matrix_given_run, covariance_matrix_given_not_run)\n",
    ")\n"
   ]
  },
  {
   "cell_type": "markdown",
   "metadata": {},
   "source": [
    "# Hyper Plane\n",
    "\n",
    "$$ x^\\top \\Sigma^{-1} (\\mu_1 - \\mu_2) + \\log \\frac{\\pi_1}{\\pi_2} - \\frac12 \\mu_1^\\top \\Sigma^{-1} \\mu_1 + \\frac12 \\mu_2^\\top \\Sigma^{-1} \\mu_2 <> 0 $$"
   ]
  },
  {
   "cell_type": "code",
   "execution_count": 11,
   "metadata": {},
   "outputs": [],
   "source": [
    "from math import log \n",
    "covariance_matrix_inverse = get_matrix_inverse(covariance_matrix)"
   ]
  },
  {
   "cell_type": "code",
   "execution_count": 12,
   "metadata": {},
   "outputs": [
    {
     "name": "stdout",
     "output_type": "stream",
     "text": [
      "[[-0.011178065405664291], [-0.003970031281869833]]\n",
      "[-0.011178065405664291, -0.003970031281869833]\n"
     ]
    }
   ],
   "source": [
    "slope_vector = multiply_matrices(covariance_matrix_inverse, subtract_matrices(transpose_matrix(mean_tuple_given_not_run) , transpose_matrix(mean_tuple_given_run)))\n",
    "print(slope_vector)\n",
    "slope_vector = [i[0] for i in slope_vector]\n",
    "print(slope_vector)"
   ]
  },
  {
   "cell_type": "markdown",
   "metadata": {},
   "source": [
    "Now we will calculate the decision boundary. The mathematics is in the document."
   ]
  },
  {
   "cell_type": "code",
   "execution_count": 13,
   "metadata": {},
   "outputs": [],
   "source": [
    "ratio_of_prior_probabilities = log(prior_probability_of_not_running/prior_probability_of_running)\n",
    "intercept_part_1 = 0.5 * multiply_matrices(multiply_matrices(mean_tuple_given_not_run, covariance_matrix_inverse), transpose_matrix(mean_tuple_given_not_run))\n",
    "intercept_part_2 = 0.5 * multiply_matrices(multiply_matrices(mean_tuple_given_run, covariance_matrix_inverse), transpose_matrix(mean_tuple_given_run))"
   ]
  },
  {
   "cell_type": "code",
   "execution_count": 14,
   "metadata": {},
   "outputs": [],
   "source": [
    "slope = -slope_vector[0] / slope_vector[1]\n",
    "hyperplane_intercept = -(ratio_of_prior_probabilities - intercept_part_1 + intercept_part_2)\n",
    "intercept = hyperplane_intercept / slope_vector[1]"
   ]
  },
  {
   "cell_type": "code",
   "execution_count": 21,
   "metadata": {},
   "outputs": [],
   "source": [
    "@dataclass\n",
    "class TestModel:\n",
    "    Date: datetime\n",
    "    TotalActiveEnergyBurned: float\n",
    "    MaxHeartRate: float\n",
    "    didIRun: int\n",
    "   \n",
    "    def __post_init__(self):\n",
    "        self.predictedDidIRun = self.predict()\n",
    "        self.misclassified = self.didIRun != self.predictedDidIRun\n",
    "    \n",
    "    def predict(self):\n",
    "        return 1 if self.TotalActiveEnergyBurned - slope * self.MaxHeartRate + intercept > 0 else 0   \n",
    "    \n",
    "    def false_positive(self):\n",
    "        return self.didIRun == 0 and self.predictedDidIRun == 1\n",
    "    \n",
    "    def false_negative(self):\n",
    "        return self.didIRun == 1 and self.predictedDidIRun == 0\n",
    "    \n",
    "    def true_positive(self):\n",
    "        return self.didIRun == 1 and self.predictedDidIRun == 1\n",
    "    \n",
    "    def true_negative(self):\n",
    "        return self.didIRun == 0 and self.predictedDidIRun == 0\n",
    "    \n",
    "test_results = list(map(lambda x: TestModel(x.Date, x.TotalActiveEnergyBurned, x.MaxHeartRate, x.didIRun), test))"
   ]
  },
  {
   "cell_type": "markdown",
   "metadata": {},
   "source": [
    "The model is 100% accurate on the test set. This is because my running has strict causal relationship with my heart rate and active energy."
   ]
  },
  {
   "cell_type": "code",
   "execution_count": 22,
   "metadata": {},
   "outputs": [
    {
     "name": "stdout",
     "output_type": "stream",
     "text": [
      "{'false_positive': 4, 'false_negative': 0, 'true_positive': 9, 'true_negative': 0}\n"
     ]
    }
   ],
   "source": [
    "confusion_matrix = {\n",
    "    \"false_positive\": len(list(filter(lambda x: x.false_positive(), test_results))),\n",
    "    \"false_negative\": len(list(filter(lambda x: x.false_negative(), test_results))),\n",
    "    \"true_positive\": len(list(filter(lambda x: x.true_positive(), test_results))),\n",
    "    \"true_negative\": len(list(filter(lambda x: x.true_negative(), test_results))),\n",
    "}\n",
    "print(confusion_matrix)"
   ]
  },
  {
   "cell_type": "markdown",
   "metadata": {},
   "source": [
    "Now we will do data visualisation. Here I will break my religious vow of not using any libraries and use matplotlib to plot the data."
   ]
  },
  {
   "cell_type": "code",
   "execution_count": 24,
   "metadata": {},
   "outputs": [
    {
     "data": {
      "image/png": "[encoded data removed]",
      "text/plain": [
       "<Figure size 640x440 with 1 Axes>"
      ]
     },
     "metadata": {},
     "output_type": "display_data"
    }
   ],
   "source": [
    "import matplotlib.pyplot as plt\n",
    "import numpy as np\n",
    "# plt.style.use('mplstyle.mplstyle')\n",
    "plt.style.use('seaborn-v0_8-paper') # Use a simple and muted style\n",
    "def abline(slope, intercept):\n",
    "    \"\"\"Plot a line from slope and intercept\"\"\"\n",
    "    axes = plt.gca()\n",
    "    x_vals = np.array(axes.get_xlim())\n",
    "    y_vals = intercept + slope * x_vals\n",
    "    plt.plot(x_vals, y_vals, '--', color='gray')  # Use a neutral color for the line\n",
    "\n",
    "\n",
    "plt.scatter(x=[i.MaxHeartRate for i in train], y=[i.TotalActiveEnergyBurned for i in train], c=[i.didIRun for i in train], cmap='RdYlGn') \n",
    "plt.title(\"Mean Heart Rate vs Total Active Energy Burned\", color='black')\n",
    "plt.ylabel(\"Total Active Energy Burned\")\n",
    "plt.xlabel(\"Mean Heart Rate\")\n",
    "abline(slope, intercept)"
   ]
  },
  {
   "cell_type": "markdown",
   "metadata": {},
   "source": [
    "# LDA as a dimensionality reduction technique\n",
    "\n",
    "The equation of this decision boundary is a linear combination of the original features, and it effectively represents a one-dimensional subspace within the original 2D space. After projecting all points onto the decision boundary, we obtain a set of 1D coordinates corresponding to their positions on this line.\n",
    "These 1D coordinates can be considered as a reduced-dimensional representation of the original 2D data, capturing the essential information relevant to the decision boundary."
   ]
  },
  {
   "cell_type": "code",
   "execution_count": 26,
   "metadata": {},
   "outputs": [
    {
     "data": {
      "image/png": "[encoded data removed]",
      "text/plain": [
       "<Figure size 640x440 with 1 Axes>"
      ]
     },
     "metadata": {},
     "output_type": "display_data"
    }
   ],
   "source": [
    "from linear_algebra_dumb_implementation import linear_projection\n",
    "plt.scatter(x=[i.MaxHeartRate for i in train], y=[linear_projection([(i.MaxHeartRate, i.TotalActiveEnergyBurned)], slope, intercept)[0][1] for i in train], c=[i.didIRun for i in train], cmap='RdYlGn')\n",
    "plt.title(\"Linear Projection\")\n",
    "plt.ylabel(\"Total Active Energy Burned\")\n",
    "plt.xlabel(\"Mean Heart Rate\")\n",
    "abline(slope, intercept)"
   ]
  },
  {
   "cell_type": "code",
   "execution_count": 29,
   "metadata": {},
   "outputs": [
    {
     "data": {
      "text/plain": [
       "Text(0.5, 0, 'Mean Heart Rate')"
      ]
     },
     "execution_count": 29,
     "metadata": {},
     "output_type": "execute_result"
    },
    {
     "data": {
      "image/png": "[encoded data removed]",
      "text/plain": [
       "<Figure size 640x440 with 1 Axes>"
      ]
     },
     "metadata": {},
     "output_type": "display_data"
    }
   ],
   "source": [
    "\n",
    "plt.scatter(x=[i.MeanHeartRate for i in train], y=[i.TotalActiveEnergyBurned for i in train], c=[i.didIRun for i in train], cmap='RdYlGn') \n",
    "plt.title(\"Mean Heart Rate vs Total Active Energy Burned\", color='black')\n",
    "plt.ylabel(\"Total Active Energy Burned\")\n",
    "plt.xlabel(\"Mean Heart Rate\")"
   ]
  },
  {
   "cell_type": "code",
   "execution_count": null,
   "metadata": {},
   "outputs": [],
   "source": []
  }
 ],
 "metadata": {
  "kernelspec": {
   "display_name": "Python 3",
   "language": "python",
   "name": "python3"
  },
  "language_info": {
   "codemirror_mode": {
    "name": "ipython",
    "version": 3
   },
   "file_extension": ".py",
   "mimetype": "text/x-python",
   "name": "python",
   "nbconvert_exporter": "python",
   "pygments_lexer": "ipython3",
   "version": "3.11.4"
  }
 },
 "nbformat": 4,
 "nbformat_minor": 2
}
